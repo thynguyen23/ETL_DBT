{
 "cells": [
  {
   "cell_type": "code",
   "execution_count": 1,
   "id": "1a8bc3f7",
   "metadata": {},
   "outputs": [],
   "source": [
    "import boto3\n",
    "from faker import Faker\n",
    "import random \n",
    "import pandas as pd\n",
    "from io import StringIO\n",
    "from datetime import datetime\n",
    "\n"
   ]
  },
  {
   "cell_type": "code",
   "execution_count": 2,
   "id": "4a73d698",
   "metadata": {},
   "outputs": [],
   "source": [
    "fake = Faker()\n",
    "s3 = boto3.client('s3')"
   ]
  },
  {
   "cell_type": "code",
   "execution_count": 3,
   "id": "e1666bad",
   "metadata": {},
   "outputs": [],
   "source": [
    "def generate_order_data(num_rows=100):\n",
    "    data = []\n",
    "    for _ in range(num_rows):\n",
    "        order = {\n",
    "            'order_id': fake.uuid4(),\n",
    "            'customer_id': fake.uuid4(),\n",
    "            'order_date': fake.date_this_year(),\n",
    "            'status': random.choice(['CREATED', 'SHIPPED', 'DELIVERED', 'CANCELLED']),\n",
    "            'product_id': fake.uuid4(),\n",
    "            'quantity': random.randint(1, 5),\n",
    "            'price': round(random.uniform(10.0, 500.0), 2),\n",
    "            'total_amount': 0.0,  # We'll calculate this next\n",
    "            'cdc_timestamp': datetime.now()   # Simulate CDC timestamp\n",
    "        }\n",
    "        order['total_amount'] = round(order['quantity'] * order['price'], 2)\n",
    "        data.append(order)\n",
    "\n",
    "    # Convert to DataFrame\n",
    "    df = pd.DataFrame(data)\n",
    "    return df"
   ]
  },
  {
   "cell_type": "code",
   "execution_count": 4,
   "id": "72fdf812",
   "metadata": {},
   "outputs": [
    {
     "name": "stdout",
     "output_type": "stream",
     "text": [
      "Uploaded orders/orders_data_2.csv to bucket ***\n"
     ]
    }
   ],
   "source": [
    "def upload_to_s3(df, bucket_name, file_name):\n",
    "    csv_buffer = StringIO()\n",
    "    df.to_csv(csv_buffer, index=False)\n",
    "    s3.put_object(Bucket=bucket_name, Key=file_name, Body=csv_buffer.getvalue())\n",
    "    print(f\"Uploaded {file_name} to bucket {bucket_name}\")\n",
    "\n",
    "df_order_data = generate_order_data(20)\n",
    "bucket_name = '***'  \n",
    "file_name = 'orders/orders_data_2.csv'\n",
    "\n",
    "upload_to_s3(df_order_data, bucket_name, file_name)\n"
   ]
  },
  {
   "cell_type": "code",
   "execution_count": null,
   "id": "19a19d8c",
   "metadata": {},
   "outputs": [],
   "source": []
  }
 ],
 "metadata": {
  "kernelspec": {
   "display_name": "dbt-venv",
   "language": "python",
   "name": "python3"
  },
  "language_info": {
   "codemirror_mode": {
    "name": "ipython",
    "version": 3
   },
   "file_extension": ".py",
   "mimetype": "text/x-python",
   "name": "python",
   "nbconvert_exporter": "python",
   "pygments_lexer": "ipython3",
   "version": "3.11.0"
  }
 },
 "nbformat": 4,
 "nbformat_minor": 5
}
